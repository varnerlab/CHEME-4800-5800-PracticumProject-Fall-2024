{
 "cells": [
  {
   "cell_type": "markdown",
   "id": "b656e475-74f0-4743-8595-603fd792dc83",
   "metadata": {},
   "source": [
    "# Practicum: Polygon.io Financial Data Application Programming Interface\n",
    "Description goes here"
   ]
  },
  {
   "cell_type": "markdown",
   "id": "69688b1a-a24a-4a95-97f1-d3c0ec514678",
   "metadata": {},
   "source": [
    "## Setup\n",
    "We set up the computational environment by including the `Include.jl` file. The `Include.jl` file loads external packages, various functions that we will use in the exercise, and custom types to model the components of our lab problem.\n",
    "* For additional information on functions and types used in this material, see the [Julia programming language documentation](https://docs.julialang.org/en/v1/). "
   ]
  },
  {
   "cell_type": "markdown",
   "id": "e4668f07-574f-44fd-9776-6f68978633fc",
   "metadata": {},
   "source": [
    "## Preliminaries\n",
    "Fill me in"
   ]
  },
  {
   "cell_type": "markdown",
   "id": "7c358645-03a7-4738-9fc3-4b26871430df",
   "metadata": {},
   "source": [
    "## Task 1: Build user and endpoint models and demonstrate the SDK function\n",
    "Fill me in"
   ]
  },
  {
   "cell_type": "markdown",
   "id": "906cb8c4-f44c-4f3b-b830-061778750131",
   "metadata": {},
   "source": [
    "## Task 2: Data analysis\n",
    "Sentiment and statistical analysis of ticker data."
   ]
  },
  {
   "cell_type": "code",
   "execution_count": null,
   "id": "df05bb0d-5857-4de7-b959-075c97a57eae",
   "metadata": {},
   "outputs": [],
   "source": []
  }
 ],
 "metadata": {
  "kernelspec": {
   "display_name": "Julia 1.11.1",
   "language": "julia",
   "name": "julia-1.11"
  },
  "language_info": {
   "name": ""
  }
 },
 "nbformat": 4,
 "nbformat_minor": 5
}
